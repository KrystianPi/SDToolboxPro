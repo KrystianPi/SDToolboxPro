{
 "cells": [
  {
   "cell_type": "code",
   "execution_count": 40,
   "metadata": {},
   "outputs": [
    {
     "name": "stdout",
     "output_type": "stream",
     "text": [
      "Give starting pressure: 10000\n",
      "Give starting temperature:  200\n",
      "Give shock wave speed:  2000\n",
      "Give number of H2 moles:  5\n",
      "Give number of 02 moles:  2\n",
      "Choose mechanism: for mechanism GRI30.cti press 1, for GRI30_highT press 2:   2\n",
      "H2:5 O2:2\n",
      " \n",
      "For H2:5 O2:2 with P1 = 0.99 & T1 = 300.00 using gri30_highT.cti\n",
      " \n",
      "Frozen Post-Incident-Shock State (2000.00 m/s)\n",
      "T2 = 963.69 K & P2 = 13.92 atm\n",
      " \n",
      "State 2\n",
      "Post of Incident Shock\n",
      "T2 = 963.691826487\n",
      "V2 = 0.536777519668\n",
      "P2 = 1410563.58697\n",
      "H2 = 1901345.54121\n",
      "State 3\n",
      "Post of Reflected Shock\n",
      "T3 = 4082.50516699\n",
      "V3 = 0.0900359427847\n",
      "P3 = 35625390.9349\n",
      "H3 = 12624502.282\n",
      "Frozen Post-Reflected-Shock State\n",
      "T3 = 4082.51 K & P3 = 351.60 atm\n",
      "Reflected Wave Speed = 787.94 m/s\n",
      " \n"
     ]
    }
   ],
   "source": [
    "from SDToolbox import *\n",
    "import cantera\n",
    "import math\n",
    "P1 = float(input(\"Give starting pressure: \"))\n",
    "T1 = float(input(\"Give starting temperature:  \"))\n",
    "UI = float(input(\"Give shock wave speed:  \"))\n",
    "q1 = float(input(\"Give number of H2 moles:  \"))\n",
    "q2 = float(input(\"Give number of 02 moles:  \"))\n",
    "answer = float(input(\"Choose mechanism: for mechanism GRI30 press 1, for GRI30_highT press 2:   \"))\n",
    "if answer == \"1\":\n",
    "    mech = 'gri30.cti'\n",
    "elif answer == \"2\":\n",
    "    mech = 'gri30_highT.cti'\n",
    "P1 = 100000; T1 = 300; UI = 2000; u1 = 0;\n",
    "P1atm = P1/one_atm;\n",
    "gas1.TPX = T1, P1, {'H2':q1, 'O2': q1}\n",
    "q = 'H2:%.f O2:%.f' % (q1, q2)\n",
    "print q\n",
    "              \n",
    "print ' '\n",
    "print 'For ' + q + ' with P1 = %.2f & T1 = %.2f using ' % (P1atm,T1) + mech\n",
    "print ' '\n",
    "\n",
    "gas2 = PostShock_fr(UI, P1, T1, q, mech);\n",
    "P2 = gas2.P/one_atm;\n",
    "print 'Frozen Post-Incident-Shock State (%.2f m/s)' % (UI)\n",
    "print 'T2 = %.2f K & P2 = %.2f atm' % (gas2.T,P2)\n",
    "print ' '\n",
    "\n",
    "gas1 = Solution(mech);\n",
    "gas3 = Solution(mech);\n",
    "\n",
    "\n",
    "[p3,UR,gas3] = reflected_fr(gas1,gas2,gas3,UI);\n",
    "P3 = gas3.P/one_atm;\n",
    "print 'Frozen Post-Reflected-Shock State'\n",
    "print 'T3 = %.2f K & P3 = %.2f atm' % (gas3.T,P3)\n",
    "print \"Reflected Wave Speed = %.2f m/s\" % (UR)\n",
    "print ' '"
   ]
  },
  {
   "cell_type": "code",
   "execution_count": null,
   "metadata": {},
   "outputs": [],
   "source": []
  },
  {
   "cell_type": "code",
   "execution_count": null,
   "metadata": {},
   "outputs": [],
   "source": []
  }
 ],
 "metadata": {
  "kernelspec": {
   "display_name": "Python 2",
   "language": "python",
   "name": "python2"
  },
  "language_info": {
   "codemirror_mode": {
    "name": "ipython",
    "version": 2
   },
   "file_extension": ".py",
   "mimetype": "text/x-python",
   "name": "python",
   "nbconvert_exporter": "python",
   "pygments_lexer": "ipython2",
   "version": "2.7.15"
  }
 },
 "nbformat": 4,
 "nbformat_minor": 2
}
