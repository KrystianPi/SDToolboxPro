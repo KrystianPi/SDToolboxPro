{
 "cells": [
  {
   "cell_type": "code",
   "execution_count": null,
   "metadata": {},
   "outputs": [],
   "source": [
    "from SDToolbox import *\n",
    "import cantera\n",
    "import math\n",
    "P1 = float(input(\"Give starting pressure: \"))\n",
    "T1 = float(input(\"Give starting temperature:  \"))\n",
    "UI = float(input(\"Give shock wave speed:  \"))\n",
    "q1 = float(input(\"Give number of H2 moles:  \"))\n",
    "q2 = float(input(\"Give number of 02 moles:  \"))\n",
    "answer = float(input(\"Choose mechanism: for mechanism GRI30 press 1, for GRI30_highT press 2:   \"))\n",
    "if answer == 1:\n",
    "    mech = 'gri30.cti'\n",
    "elif answer == 2:\n",
    "    mech = 'gri30_highT.cti'\n",
    "u1 = 0;\n",
    "P1atm = P1/one_atm;\n",
    "gas1.TPX = T1, P1, {'H2':q1, 'O2': q1}\n",
    "q = 'H2:%.f O2:%.f' % (q1, q2)\n",
    "\n",
    "              \n",
    "print ' '\n",
    "print 'For ' + q + ' with P1 = %.2f & T1 = %.2f using ' % (P1atm,T1) + mech\n",
    "print ' '\n",
    "\n",
    "gas2 = PostShock_fr(UI, P1, T1, q, mech);\n",
    "P2 = gas2.P/one_atm;\n",
    "print 'Frozen Post-Incident-Shock State (%.2f m/s)' % (UI)\n",
    "print 'T2 = %.2f K & P2 = %.2f atm' % (gas2.T,P2)\n",
    "print ' '\n",
    "\n",
    "gas1 = Solution(mech);\n",
    "gas3 = Solution(mech);\n",
    "\n",
    "\n",
    "[p3,UR,gas3] = reflected_fr(gas1,gas2,gas3,UI);\n",
    "P3 = gas3.P/one_atm;\n",
    "print 'Frozen Post-Reflected-Shock State'\n",
    "print 'T3 = %.2f K & P3 = %.2f atm' % (gas3.T,P3)\n",
    "print \"Reflected Wave Speed = %.2f m/s\" % (UR)\n",
    "print ' '"
   ]
  },
  {
   "cell_type": "code",
   "execution_count": null,
   "metadata": {},
   "outputs": [],
   "source": []
  },
  {
   "cell_type": "code",
   "execution_count": null,
   "metadata": {},
   "outputs": [],
   "source": []
  }
 ],
 "metadata": {
  "kernelspec": {
   "display_name": "Python 2",
   "language": "python",
   "name": "python2"
  }
 },
 "nbformat": 4,
 "nbformat_minor": 2
}
